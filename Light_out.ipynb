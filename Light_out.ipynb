{
 "cells": [
  {
   "cell_type": "code",
   "execution_count": 3,
   "id": "c4c91800-3e8e-4f66-b99b-fe199deaff7a",
   "metadata": {
    "tags": []
   },
   "outputs": [
    {
     "name": "stdout",
     "output_type": "stream",
     "text": [
      "pygame 2.5.2 (SDL 2.28.3, Python 3.11.8)\n",
      "Hello from the pygame community. https://www.pygame.org/contribute.html\n"
     ]
    }
   ],
   "source": [
    "import numpy as np\n",
    "import math as ma\n",
    "import random as rdm\n",
    "import sympy as sp\n",
    "import pygame as pg"
   ]
  },
  {
   "cell_type": "markdown",
   "id": "c022b711-160e-4d65-8c20-694ed4e0f65a",
   "metadata": {},
   "source": [
    "## Exercice 6.1 "
   ]
  },
  {
   "cell_type": "code",
   "execution_count": 5,
   "id": "3d0440f0-d254-4742-996a-dd5125ab6112",
   "metadata": {
    "tags": []
   },
   "outputs": [],
   "source": [
    "def Vecteur_colonne(A):\n",
    "    array = []\n",
    "    for ligne in range(len(A)):\n",
    "        for colonne in range(len(A[ligne])):\n",
    "            array.append(A[colonne][ligne])\n",
    "            vecteur_colonne = np.array([array])\n",
    "    return vecteur_colonne.T"
   ]
  },
  {
   "cell_type": "code",
   "execution_count": 6,
   "id": "2b16bade-3247-436b-946a-6c66304bdb1b",
   "metadata": {
    "tags": []
   },
   "outputs": [
    {
     "name": "stdout",
     "output_type": "stream",
     "text": [
      "[[1]\n",
      " [4]\n",
      " [7]\n",
      " [2]\n",
      " [5]\n",
      " [8]\n",
      " [3]\n",
      " [6]\n",
      " [9]]\n"
     ]
    }
   ],
   "source": [
    "v = Vecteur_colonne(np.array([[1, 2, 3], [4, 5, 6], [7, 8, 9]]))\n",
    "print(v)"
   ]
  },
  {
   "cell_type": "code",
   "execution_count": 7,
   "id": "03bcf360-0f0a-48a6-b246-8997ec2d2196",
   "metadata": {
    "tags": []
   },
   "outputs": [],
   "source": [
    "def Matrice(V):\n",
    "    n = int(ma.sqrt(len(V)))\n",
    "    mat = np.zeros((n, n))\n",
    "    l = 0\n",
    "    for ligne in range(n):\n",
    "        for colonne in range(n):\n",
    "            mat[colonne][ligne] = V[l]\n",
    "            l = l + 1\n",
    "    return mat"
   ]
  },
  {
   "cell_type": "code",
   "execution_count": 8,
   "id": "39a4ad99-013d-4232-8674-9ab5b09cdd24",
   "metadata": {
    "tags": []
   },
   "outputs": [
    {
     "name": "stdout",
     "output_type": "stream",
     "text": [
      "[[1. 2. 3.]\n",
      " [4. 5. 6.]\n",
      " [7. 8. 9.]]\n"
     ]
    },
    {
     "name": "stderr",
     "output_type": "stream",
     "text": [
      "C:\\Users\\Ludivine\\AppData\\Local\\Temp\\ipykernel_1992\\2061964481.py:7: DeprecationWarning: Conversion of an array with ndim > 0 to a scalar is deprecated, and will error in future. Ensure you extract a single element from your array before performing this operation. (Deprecated NumPy 1.25.)\n",
      "  mat[colonne][ligne] = V[l]\n"
     ]
    }
   ],
   "source": [
    "m = Matrice(v)\n",
    "print(m)"
   ]
  },
  {
   "cell_type": "markdown",
   "id": "98816a06-7118-434e-b27f-7749a1670af4",
   "metadata": {},
   "source": [
    "## Exercice 6.2"
   ]
  },
  {
   "cell_type": "code",
   "execution_count": 9,
   "id": "391002b4-db56-459d-90cd-e03ba861b69f",
   "metadata": {
    "tags": []
   },
   "outputs": [],
   "source": [
    "def Croix(ligne, colonne, n):\n",
    "    mat = np.zeros((n, n))\n",
    "    mat[ligne][colonne] = 1\n",
    "    if n > ligne + 1:\n",
    "        mat[ligne + 1][colonne] = 1\n",
    "    if ligne - 1 >= 0:\n",
    "        mat[ligne - 1][colonne] = 1\n",
    "    if n > colonne + 1:\n",
    "        mat[ligne][colonne + 1] = 1\n",
    "    if colonne - 1 >= 0:\n",
    "        mat[ligne][colonne - 1] = 1\n",
    "    return mat"
   ]
  },
  {
   "cell_type": "code",
   "execution_count": 10,
   "id": "c32a4fda-ccd8-4637-a69b-40e4c0cf2ef6",
   "metadata": {
    "tags": []
   },
   "outputs": [
    {
     "name": "stdout",
     "output_type": "stream",
     "text": [
      "[[0. 0. 1. 0. 0.]\n",
      " [0. 1. 1. 1. 0.]\n",
      " [0. 0. 1. 0. 0.]\n",
      " [0. 0. 0. 0. 0.]\n",
      " [0. 0. 0. 0. 0.]]\n"
     ]
    }
   ],
   "source": [
    "print(Croix(1, 2, 5))"
   ]
  },
  {
   "cell_type": "markdown",
   "id": "ef72e976-3e5b-4e7d-acf1-d131769b657f",
   "metadata": {
    "tags": []
   },
   "source": [
    "## Exercice 6.3"
   ]
  },
  {
   "cell_type": "code",
   "execution_count": 11,
   "id": "ee6155e0-6ccb-4d38-8225-ad2bfdf461bd",
   "metadata": {
    "tags": []
   },
   "outputs": [],
   "source": [
    "def gagner(matrice):\n",
    "    tailleMatrice = len(matrice)\n",
    "    for i in range(tailleMatrice):\n",
    "        for j in range(tailleMatrice):\n",
    "            if matrice[i][j]:\n",
    "                return False\n",
    "    return True\n",
    "\n",
    "def matriceBinaire(matrice):\n",
    "    tailleMatrice = len(matrice)\n",
    "    for i in range(tailleMatrice):\n",
    "        for j in range(tailleMatrice):\n",
    "            matrice[i][j] = matrice[i][j] % 2\n",
    "    return matrice\n",
    "\n",
    "def Light_Out():\n",
    "    taille = 2\n",
    "    mat = np.zeros((taille, taille))\n",
    "    for i in range(taille):\n",
    "        for j in range(taille):\n",
    "            mat[i][j] = rdm.randint(0, 1)\n",
    "    print(mat)\n",
    "    \n",
    "    while not gagner(mat):\n",
    "        ligne = int(input(\"Quelle ligne joué ?\"))\n",
    "        colonne = int(input(\"Quelle colonne joué ?\"))\n",
    "        mat = mat + Croix(ligne, colonne, taille)\n",
    "        mat = matriceBinaire(mat)\n",
    "        print(\"\\n------------------------------\\n\")\n",
    "        print(mat)\n",
    "    print(\"Félicitation, vous avez gagné !\")"
   ]
  },
  {
   "cell_type": "code",
   "execution_count": 14,
   "id": "3ae8b76d-eee0-47b8-b385-4e4b2525d185",
   "metadata": {
    "tags": []
   },
   "outputs": [
    {
     "name": "stdout",
     "output_type": "stream",
     "text": [
      "[[0. 1.]\n",
      " [0. 0.]]\n",
      "\n",
      "------------------------------\n",
      "\n",
      "[[1. 0.]\n",
      " [0. 1.]]\n",
      "\n",
      "------------------------------\n",
      "\n",
      "[[1. 1.]\n",
      " [1. 0.]]\n",
      "\n",
      "------------------------------\n",
      "\n",
      "[[0. 0.]\n",
      " [0. 0.]]\n",
      "Félicitation, vous avez gagné !\n"
     ]
    }
   ],
   "source": [
    "Light_Out()"
   ]
  },
  {
   "cell_type": "markdown",
   "id": "ce780375-6b30-44d3-b792-a92a6ba343cb",
   "metadata": {},
   "source": [
    "## Exercice 6.4"
   ]
  },
  {
   "cell_type": "code",
   "execution_count": 15,
   "id": "0ef983a6-b993-4115-8f35-c2c9b65092a4",
   "metadata": {
    "tags": []
   },
   "outputs": [],
   "source": [
    "def Matrice_Passage(n):\n",
    "    mat_passage = []\n",
    "    for i in range(n):\n",
    "        for j in range(n):\n",
    "            mat = Croix(j,i,n)\n",
    "            mat = Vecteur_colonne(mat)\n",
    "            mat_passage.append(mat)\n",
    "    return np.transpose(mat_passage)\n",
    "    \n"
   ]
  },
  {
   "cell_type": "code",
   "execution_count": 16,
   "id": "f74b40aa-d580-47f3-bdee-e33f85292f6e",
   "metadata": {
    "tags": []
   },
   "outputs": [
    {
     "name": "stdout",
     "output_type": "stream",
     "text": [
      "[[[1. 1. 1. 0.]\n",
      "  [1. 1. 0. 1.]\n",
      "  [1. 0. 1. 1.]\n",
      "  [0. 1. 1. 1.]]]\n"
     ]
    }
   ],
   "source": [
    "print(Matrice_Passage(2))"
   ]
  },
  {
   "cell_type": "markdown",
   "id": "41af5ae1-fdc3-4589-ae89-1d69c74a6a9d",
   "metadata": {
    "tags": []
   },
   "source": [
    "## Exercice 6.5"
   ]
  },
  {
   "cell_type": "code",
   "execution_count": 17,
   "id": "a39720ae-d0f9-4d3c-8ee4-016ba52d9be3",
   "metadata": {
    "tags": []
   },
   "outputs": [
    {
     "name": "stdout",
     "output_type": "stream",
     "text": [
      "[2, 3, 6, 7, 8, 10]\n"
     ]
    }
   ],
   "source": [
    "solution_unique_det = []\n",
    "for i in range (2,12):\n",
    "    det = round(np.linalg.det(Matrice_Passage(i)[0]))%2\n",
    "    if(det!=0):\n",
    "        solution_unique_det.append(i)\n",
    "print(solution_unique_det)"
   ]
  },
  {
   "cell_type": "markdown",
   "id": "74c9b539-b245-4f70-a0d9-4327bb87fce1",
   "metadata": {},
   "source": [
    "## Exercice 6.6"
   ]
  },
  {
   "cell_type": "code",
   "execution_count": 18,
   "id": "93b4e7af-45b0-4130-bec3-4e7e793ddd54",
   "metadata": {
    "tags": []
   },
   "outputs": [
    {
     "name": "stdout",
     "output_type": "stream",
     "text": [
      "[[[0. 1. 0. 1. 0. 0. 0. 0. 1.]\n",
      "  [1. 0. 1. 0. 0. 0. 0. 1. 0.]\n",
      "  [0. 1. 0. 0. 0. 1. 1. 0. 0.]\n",
      "  [1. 0. 0. 0. 0. 1. 1. 0. 0.]\n",
      "  [0. 0. 0. 0. 0. 0. 0. 0. 0.]\n",
      "  [0. 0. 1. 1. 0. 0. 0. 0. 1.]\n",
      "  [0. 0. 1. 1. 0. 0. 0. 1. 0.]\n",
      "  [0. 1. 0. 0. 0. 0. 1. 0. 1.]\n",
      "  [1. 0. 0. 0. 0. 1. 0. 1. 0.]]]\n"
     ]
    }
   ],
   "source": [
    "mat_pass_3 = Matrice_Passage(3)\n",
    "inv_mat_pass_3 = np.linalg.inv(mat_pass_3)\n",
    "for i in range(9):\n",
    "    for j in range(9):\n",
    "        inv_mat_pass_3[0][i][j] = round(inv_mat_pass_3[0][i][j],0)%2\n",
    "print(inv_mat_pass_3)\n"
   ]
  },
  {
   "cell_type": "markdown",
   "id": "a06c61bb-9552-4272-b0fe-e9173c9f0697",
   "metadata": {},
   "source": [
    "## Exercice 6.7"
   ]
  },
  {
   "cell_type": "code",
   "execution_count": 19,
   "id": "52728dfd-828d-4139-b6d3-a512441300f3",
   "metadata": {
    "tags": []
   },
   "outputs": [],
   "source": [
    "def Solution(A):\n",
    "    vec_col = Vecteur_colonne(A)\n",
    "    mat_pass = Matrice_Passage(len(A))\n",
    "    \n",
    "    inv_mat_pass = np.linalg.inv(mat_pass[0])\n",
    "    vec_col = np.dot(inv_mat_pass, vec_col)\n",
    "    vec_col = np.round(vec_col)\n",
    "\n",
    "    for i in range(len(vec_col)):\n",
    "        for j in range(len(vec_col[i])):\n",
    "            vec_col[i][j] = vec_col[i][j]%2\n",
    "        \n",
    "    return Matrice(vec_col)\n"
   ]
  },
  {
   "cell_type": "code",
   "execution_count": 20,
   "id": "f9309d3b-d4e3-4f70-8d14-82c5c74155d1",
   "metadata": {
    "tags": []
   },
   "outputs": [
    {
     "name": "stdout",
     "output_type": "stream",
     "text": [
      "Matrice initiale : \n",
      "[[0. 0. 0.]\n",
      " [1. 1. 0.]\n",
      " [0. 1. 0.]]\n",
      "Solution : \n",
      "[[0. 1. 1.]\n",
      " [0. 1. 1.]\n",
      " [1. 0. 0.]]\n"
     ]
    },
    {
     "name": "stderr",
     "output_type": "stream",
     "text": [
      "C:\\Users\\Ludivine\\AppData\\Local\\Temp\\ipykernel_1992\\2061964481.py:7: DeprecationWarning: Conversion of an array with ndim > 0 to a scalar is deprecated, and will error in future. Ensure you extract a single element from your array before performing this operation. (Deprecated NumPy 1.25.)\n",
      "  mat[colonne][ligne] = V[l]\n"
     ]
    }
   ],
   "source": [
    "taille = 3\n",
    "mat = np.zeros((taille, taille))\n",
    "\n",
    "mat[1][0] = 1\n",
    "mat[1][1] = 1\n",
    "mat[2][1] = 1\n",
    "\n",
    "print(\"Matrice initiale : \")\n",
    "print(mat)\n",
    "sol = Solution(mat)\n",
    "print(\"Solution : \")\n",
    "print(sol)"
   ]
  }
 ],
 "metadata": {
  "kernelspec": {
   "display_name": "Python 3 (ipykernel)",
   "language": "python",
   "name": "python3"
  },
  "language_info": {
   "codemirror_mode": {
    "name": "ipython",
    "version": 3
   },
   "file_extension": ".py",
   "mimetype": "text/x-python",
   "name": "python",
   "nbconvert_exporter": "python",
   "pygments_lexer": "ipython3",
   "version": "3.11.8"
  }
 },
 "nbformat": 4,
 "nbformat_minor": 5
}
